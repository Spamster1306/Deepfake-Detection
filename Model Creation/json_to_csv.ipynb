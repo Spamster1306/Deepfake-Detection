{
 "cells": [
  {
   "cell_type": "code",
   "execution_count": 1,
   "metadata": {},
   "outputs": [
    {
     "name": "stderr",
     "output_type": "stream",
     "text": [
      "C:\\Users\\gupta\\AppData\\Local\\Temp\\ipykernel_8676\\4080736814.py:1: DeprecationWarning: \n",
      "Pyarrow will become a required dependency of pandas in the next major release of pandas (pandas 3.0),\n",
      "(to allow more performant data types, such as the Arrow string type, and better interoperability with other libraries)\n",
      "but was not found to be installed on your system.\n",
      "If this would cause problems for you,\n",
      "please provide us feedback at https://github.com/pandas-dev/pandas/issues/54466\n",
      "        \n",
      "  import pandas as pd\n"
     ]
    }
   ],
   "source": [
    "import pandas as pd"
   ]
  },
  {
   "cell_type": "code",
   "execution_count": 3,
   "metadata": {},
   "outputs": [
    {
     "name": "stdout",
     "output_type": "stream",
     "text": [
      "D:\\DeepFake Detection\\Dataset\\Deepfake Detection Challenge\\dfdc_train_part_0\\metadata.csv\n",
      "D:\\DeepFake Detection\\Dataset\\Deepfake Detection Challenge\\dfdc_train_part_0\\metadata.json\n",
      "              URI label original           split\n",
      "0  owxbbpjpch.mp4  FAKE    train  wynotylpnm.mp4\n",
      "1  vpmyeepbep.mp4  REAL    train             NaN\n",
      "2  fzvpbrzssi.mp4  REAL    train             NaN\n",
      "3  htorvhbcae.mp4  FAKE    train  wclvkepakb.mp4\n",
      "4  fckxaqjbxk.mp4  FAKE    train  vpmyeepbep.mp4\n",
      "D:\\DeepFake Detection\\Dataset\\Deepfake Detection Challenge\\dfdc_train_part_1\\metadata.csv\n",
      "D:\\DeepFake Detection\\Dataset\\Deepfake Detection Challenge\\dfdc_train_part_1\\metadata.json\n",
      "              URI label original           split\n",
      "0  zumqqvixhu.mp4  FAKE    train  hntguogkqd.mp4\n",
      "1  utdlsqfykm.mp4  FAKE    train  nswtvttxre.mp4\n",
      "2  mdfndlljvt.mp4  FAKE    train  ptkcmwnfjv.mp4\n",
      "3  maktypgsfl.mp4  FAKE    train  objgwnmscm.mp4\n",
      "4  pleqihjpif.mp4  FAKE    train  xrhqtmxlvx.mp4\n",
      "D:\\DeepFake Detection\\Dataset\\Deepfake Detection Challenge\\dfdc_train_part_2\\metadata.csv\n",
      "D:\\DeepFake Detection\\Dataset\\Deepfake Detection Challenge\\dfdc_train_part_2\\metadata.json\n",
      "              URI label original           split\n",
      "0  qyyebirxwe.mp4  FAKE    train  ejhhokmvpe.mp4\n",
      "1  ntjlknlcvn.mp4  FAKE    train  nthpnwylxo.mp4\n",
      "2  qivpypiwlp.mp4  FAKE    train  hszwwswewp.mp4\n",
      "3  lpkgabskbw.mp4  FAKE    train  rnxzqumvvl.mp4\n",
      "4  vctemjbusz.mp4  FAKE    train  sznkemeqro.mp4\n",
      "D:\\DeepFake Detection\\Dataset\\Deepfake Detection Challenge\\dfdc_train_part_3\\metadata.csv\n",
      "D:\\DeepFake Detection\\Dataset\\Deepfake Detection Challenge\\dfdc_train_part_3\\metadata.json\n",
      "              URI label original           split\n",
      "0  vngueqqcmz.mp4  FAKE    train  ghfnznqrvh.mp4\n",
      "1  ieblyetiob.mp4  FAKE    train  tsvhwitvah.mp4\n",
      "2  dnrpknwija.mp4  FAKE    train  ezfrcspzxw.mp4\n",
      "3  zznanrtksj.mp4  FAKE    train  rozrjmrmeo.mp4\n",
      "4  vdwoazrodt.mp4  FAKE    train  kytwyrusew.mp4\n",
      "D:\\DeepFake Detection\\Dataset\\Deepfake Detection Challenge\\dfdc_train_part_4\\metadata.csv\n",
      "D:\\DeepFake Detection\\Dataset\\Deepfake Detection Challenge\\dfdc_train_part_4\\metadata.json\n",
      "              URI label original           split\n",
      "0  oyixebfpcl.mp4  FAKE    train  bgpoldvzrh.mp4\n",
      "1  sayyjwtjol.mp4  REAL    train             NaN\n",
      "2  qxbnmwwgzp.mp4  FAKE    train  kmyrnchata.mp4\n",
      "3  puudvugxrl.mp4  REAL    train             NaN\n",
      "4  shclgsfxtj.mp4  FAKE    train  bgpoldvzrh.mp4\n",
      "D:\\DeepFake Detection\\Dataset\\Deepfake Detection Challenge\\dfdc_train_part_5\\metadata.csv\n",
      "D:\\DeepFake Detection\\Dataset\\Deepfake Detection Challenge\\dfdc_train_part_5\\metadata.json\n",
      "              URI label original           split\n",
      "0  syybbzdttf.mp4  FAKE    train  gmkfzogjlj.mp4\n",
      "1  ibyevudtta.mp4  FAKE    train  xfrswzqrmn.mp4\n",
      "2  cwhvshlzzh.mp4  FAKE    train  yklrylijjp.mp4\n",
      "3  wcjvgqhaup.mp4  FAKE    train  omodwoqqhv.mp4\n",
      "4  hwklwhlahc.mp4  FAKE    train  ouvlzfmqsz.mp4\n",
      "D:\\DeepFake Detection\\Dataset\\Deepfake Detection Challenge\\dfdc_train_part_6\\metadata.csv\n",
      "D:\\DeepFake Detection\\Dataset\\Deepfake Detection Challenge\\dfdc_train_part_6\\metadata.json\n",
      "              URI label original           split\n",
      "0  olczadekwi.mp4  FAKE    train  enjaxrsqfw.mp4\n",
      "1  xehgproyja.mp4  FAKE    train  eaigdemyfo.mp4\n",
      "2  upufdnalyp.mp4  FAKE    train  mzhigmfuby.mp4\n",
      "3  uttucnjlcc.mp4  FAKE    train  fizjrtkrbk.mp4\n",
      "4  kumsrllezr.mp4  FAKE    train  ptbtuynmhm.mp4\n"
     ]
    }
   ],
   "source": [
    "for i in range(7):\n",
    "    path_json = \"D:\\DeepFake Detection\\Dataset\\Deepfake Detection Challenge\\dfdc_train_part_\"+str(i)+\"\\metadata.json\"\n",
    "    path_csv = \"D:\\DeepFake Detection\\Dataset\\Deepfake Detection Challenge\\dfdc_train_part_\"+str(i)+\"\\metadata.csv\"\n",
    "    print(path_csv)\n",
    "    print(path_json)\n",
    "    read_json = pd.read_json(path_json)\n",
    "    df = pd.DataFrame(read_json)\n",
    "    df_2 = pd.DataFrame(df.transpose())\n",
    "    df_2.to_csv(path_csv)\n",
    "    read_csv = pd.read_csv(path_csv)\n",
    "    read_csv.columns = [\"URI\",\"label\",\"original\",\"split\"]\n",
    "    read_csv.to_csv(path_csv,index=False)\n",
    "    print(read_csv.head(5))\n"
   ]
  },
  {
   "cell_type": "code",
   "execution_count": null,
   "metadata": {},
   "outputs": [],
   "source": []
  }
 ],
 "metadata": {
  "kernelspec": {
   "display_name": "Python 3",
   "language": "python",
   "name": "python3"
  },
  "language_info": {
   "codemirror_mode": {
    "name": "ipython",
    "version": 3
   },
   "file_extension": ".py",
   "mimetype": "text/x-python",
   "name": "python",
   "nbconvert_exporter": "python",
   "pygments_lexer": "ipython3",
   "version": "3.11.8"
  }
 },
 "nbformat": 4,
 "nbformat_minor": 2
}
